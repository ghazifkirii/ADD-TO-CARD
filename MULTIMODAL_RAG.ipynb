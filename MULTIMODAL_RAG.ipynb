{
  "nbformat": 4,
  "nbformat_minor": 0,
  "metadata": {
    "colab": {
      "provenance": [],
      "authorship_tag": "ABX9TyNwk8/P3gzuoItBgXDxVEhh",
      "include_colab_link": true
    },
    "kernelspec": {
      "name": "python3",
      "display_name": "Python 3"
    },
    "language_info": {
      "name": "python"
    }
  },
  "cells": [
    {
      "cell_type": "markdown",
      "metadata": {
        "id": "view-in-github",
        "colab_type": "text"
      },
      "source": [
        "<a href=\"https://colab.research.google.com/github/ghazifkirii/ADD-TO-CARD/blob/main/MULTIMODAL_RAG.ipynb\" target=\"_parent\"><img src=\"https://colab.research.google.com/assets/colab-badge.svg\" alt=\"Open In Colab\"/></a>"
      ]
    },
    {
      "cell_type": "code",
      "execution_count": 3,
      "metadata": {
        "colab": {
          "base_uri": "https://localhost:8080/"
        },
        "id": "go9zog_ddwq7",
        "outputId": "55d4505c-800b-4226-d21f-27ba77fbe61f"
      },
      "outputs": [
        {
          "output_type": "stream",
          "name": "stdout",
          "text": [
            "Requirement already satisfied: langchain in /usr/local/lib/python3.10/dist-packages (0.2.8)\n",
            "Requirement already satisfied: langchain_community in /usr/local/lib/python3.10/dist-packages (0.2.7)\n",
            "Requirement already satisfied: chromadb in /usr/local/lib/python3.10/dist-packages (0.5.4)\n",
            "Requirement already satisfied: langchain_mistralai in /usr/local/lib/python3.10/dist-packages (0.1.10)\n",
            "Requirement already satisfied: langchain-google-genai in /usr/local/lib/python3.10/dist-packages (1.0.7)\n",
            "Requirement already satisfied: PyYAML>=5.3 in /usr/local/lib/python3.10/dist-packages (from langchain) (6.0.1)\n",
            "Requirement already satisfied: SQLAlchemy<3,>=1.4 in /usr/local/lib/python3.10/dist-packages (from langchain) (2.0.31)\n",
            "Requirement already satisfied: aiohttp<4.0.0,>=3.8.3 in /usr/local/lib/python3.10/dist-packages (from langchain) (3.9.5)\n",
            "Requirement already satisfied: async-timeout<5.0.0,>=4.0.0 in /usr/local/lib/python3.10/dist-packages (from langchain) (4.0.3)\n",
            "Requirement already satisfied: langchain-core<0.3.0,>=0.2.19 in /usr/local/lib/python3.10/dist-packages (from langchain) (0.2.19)\n",
            "Requirement already satisfied: langchain-text-splitters<0.3.0,>=0.2.0 in /usr/local/lib/python3.10/dist-packages (from langchain) (0.2.2)\n",
            "Requirement already satisfied: langsmith<0.2.0,>=0.1.17 in /usr/local/lib/python3.10/dist-packages (from langchain) (0.1.85)\n",
            "Requirement already satisfied: numpy<2,>=1 in /usr/local/lib/python3.10/dist-packages (from langchain) (1.25.2)\n",
            "Requirement already satisfied: pydantic<3,>=1 in /usr/local/lib/python3.10/dist-packages (from langchain) (2.8.2)\n",
            "Requirement already satisfied: requests<3,>=2 in /usr/local/lib/python3.10/dist-packages (from langchain) (2.31.0)\n",
            "Requirement already satisfied: tenacity!=8.4.0,<9.0.0,>=8.1.0 in /usr/local/lib/python3.10/dist-packages (from langchain) (8.5.0)\n",
            "Requirement already satisfied: dataclasses-json<0.7,>=0.5.7 in /usr/local/lib/python3.10/dist-packages (from langchain_community) (0.6.7)\n",
            "Requirement already satisfied: build>=1.0.3 in /usr/local/lib/python3.10/dist-packages (from chromadb) (1.2.1)\n",
            "Requirement already satisfied: chroma-hnswlib==0.7.5 in /usr/local/lib/python3.10/dist-packages (from chromadb) (0.7.5)\n",
            "Requirement already satisfied: fastapi>=0.95.2 in /usr/local/lib/python3.10/dist-packages (from chromadb) (0.111.1)\n",
            "Requirement already satisfied: uvicorn[standard]>=0.18.3 in /usr/local/lib/python3.10/dist-packages (from chromadb) (0.30.1)\n",
            "Requirement already satisfied: posthog>=2.4.0 in /usr/local/lib/python3.10/dist-packages (from chromadb) (3.5.0)\n",
            "Requirement already satisfied: typing-extensions>=4.5.0 in /usr/local/lib/python3.10/dist-packages (from chromadb) (4.12.2)\n",
            "Requirement already satisfied: onnxruntime>=1.14.1 in /usr/local/lib/python3.10/dist-packages (from chromadb) (1.18.1)\n",
            "Requirement already satisfied: opentelemetry-api>=1.2.0 in /usr/local/lib/python3.10/dist-packages (from chromadb) (1.25.0)\n",
            "Requirement already satisfied: opentelemetry-exporter-otlp-proto-grpc>=1.2.0 in /usr/local/lib/python3.10/dist-packages (from chromadb) (1.25.0)\n",
            "Requirement already satisfied: opentelemetry-instrumentation-fastapi>=0.41b0 in /usr/local/lib/python3.10/dist-packages (from chromadb) (0.46b0)\n",
            "Requirement already satisfied: opentelemetry-sdk>=1.2.0 in /usr/local/lib/python3.10/dist-packages (from chromadb) (1.25.0)\n",
            "Requirement already satisfied: tokenizers>=0.13.2 in /usr/local/lib/python3.10/dist-packages (from chromadb) (0.19.1)\n",
            "Requirement already satisfied: pypika>=0.48.9 in /usr/local/lib/python3.10/dist-packages (from chromadb) (0.48.9)\n",
            "Requirement already satisfied: tqdm>=4.65.0 in /usr/local/lib/python3.10/dist-packages (from chromadb) (4.66.4)\n",
            "Requirement already satisfied: overrides>=7.3.1 in /usr/local/lib/python3.10/dist-packages (from chromadb) (7.7.0)\n",
            "Requirement already satisfied: importlib-resources in /usr/local/lib/python3.10/dist-packages (from chromadb) (6.4.0)\n",
            "Requirement already satisfied: grpcio>=1.58.0 in /usr/local/lib/python3.10/dist-packages (from chromadb) (1.64.1)\n",
            "Requirement already satisfied: bcrypt>=4.0.1 in /usr/local/lib/python3.10/dist-packages (from chromadb) (4.1.3)\n",
            "Requirement already satisfied: typer>=0.9.0 in /usr/local/lib/python3.10/dist-packages (from chromadb) (0.12.3)\n",
            "Requirement already satisfied: kubernetes>=28.1.0 in /usr/local/lib/python3.10/dist-packages (from chromadb) (30.1.0)\n",
            "Requirement already satisfied: mmh3>=4.0.1 in /usr/local/lib/python3.10/dist-packages (from chromadb) (4.1.0)\n",
            "Requirement already satisfied: orjson>=3.9.12 in /usr/local/lib/python3.10/dist-packages (from chromadb) (3.10.6)\n",
            "Requirement already satisfied: httpx>=0.27.0 in /usr/local/lib/python3.10/dist-packages (from chromadb) (0.27.0)\n",
            "Requirement already satisfied: httpx-sse<1,>=0.3.1 in /usr/local/lib/python3.10/dist-packages (from langchain_mistralai) (0.4.0)\n",
            "Requirement already satisfied: google-generativeai<0.8.0,>=0.7.0 in /usr/local/lib/python3.10/dist-packages (from langchain-google-genai) (0.7.2)\n",
            "Requirement already satisfied: aiosignal>=1.1.2 in /usr/local/lib/python3.10/dist-packages (from aiohttp<4.0.0,>=3.8.3->langchain) (1.3.1)\n",
            "Requirement already satisfied: attrs>=17.3.0 in /usr/local/lib/python3.10/dist-packages (from aiohttp<4.0.0,>=3.8.3->langchain) (23.2.0)\n",
            "Requirement already satisfied: frozenlist>=1.1.1 in /usr/local/lib/python3.10/dist-packages (from aiohttp<4.0.0,>=3.8.3->langchain) (1.4.1)\n",
            "Requirement already satisfied: multidict<7.0,>=4.5 in /usr/local/lib/python3.10/dist-packages (from aiohttp<4.0.0,>=3.8.3->langchain) (6.0.5)\n",
            "Requirement already satisfied: yarl<2.0,>=1.0 in /usr/local/lib/python3.10/dist-packages (from aiohttp<4.0.0,>=3.8.3->langchain) (1.9.4)\n",
            "Requirement already satisfied: packaging>=19.1 in /usr/local/lib/python3.10/dist-packages (from build>=1.0.3->chromadb) (24.1)\n",
            "Requirement already satisfied: pyproject_hooks in /usr/local/lib/python3.10/dist-packages (from build>=1.0.3->chromadb) (1.1.0)\n",
            "Requirement already satisfied: tomli>=1.1.0 in /usr/local/lib/python3.10/dist-packages (from build>=1.0.3->chromadb) (2.0.1)\n",
            "Requirement already satisfied: marshmallow<4.0.0,>=3.18.0 in /usr/local/lib/python3.10/dist-packages (from dataclasses-json<0.7,>=0.5.7->langchain_community) (3.21.3)\n",
            "Requirement already satisfied: typing-inspect<1,>=0.4.0 in /usr/local/lib/python3.10/dist-packages (from dataclasses-json<0.7,>=0.5.7->langchain_community) (0.9.0)\n",
            "Requirement already satisfied: starlette<0.38.0,>=0.37.2 in /usr/local/lib/python3.10/dist-packages (from fastapi>=0.95.2->chromadb) (0.37.2)\n",
            "Requirement already satisfied: fastapi-cli>=0.0.2 in /usr/local/lib/python3.10/dist-packages (from fastapi>=0.95.2->chromadb) (0.0.4)\n",
            "Requirement already satisfied: jinja2>=2.11.2 in /usr/local/lib/python3.10/dist-packages (from fastapi>=0.95.2->chromadb) (3.1.4)\n",
            "Requirement already satisfied: python-multipart>=0.0.7 in /usr/local/lib/python3.10/dist-packages (from fastapi>=0.95.2->chromadb) (0.0.9)\n",
            "Requirement already satisfied: email_validator>=2.0.0 in /usr/local/lib/python3.10/dist-packages (from fastapi>=0.95.2->chromadb) (2.2.0)\n",
            "Requirement already satisfied: google-ai-generativelanguage==0.6.6 in /usr/local/lib/python3.10/dist-packages (from google-generativeai<0.8.0,>=0.7.0->langchain-google-genai) (0.6.6)\n",
            "Requirement already satisfied: google-api-core in /usr/local/lib/python3.10/dist-packages (from google-generativeai<0.8.0,>=0.7.0->langchain-google-genai) (2.16.2)\n",
            "Requirement already satisfied: google-api-python-client in /usr/local/lib/python3.10/dist-packages (from google-generativeai<0.8.0,>=0.7.0->langchain-google-genai) (2.84.0)\n",
            "Requirement already satisfied: google-auth>=2.15.0 in /usr/local/lib/python3.10/dist-packages (from google-generativeai<0.8.0,>=0.7.0->langchain-google-genai) (2.27.0)\n",
            "Requirement already satisfied: protobuf in /usr/local/lib/python3.10/dist-packages (from google-generativeai<0.8.0,>=0.7.0->langchain-google-genai) (3.20.3)\n",
            "Requirement already satisfied: proto-plus<2.0.0dev,>=1.22.3 in /usr/local/lib/python3.10/dist-packages (from google-ai-generativelanguage==0.6.6->google-generativeai<0.8.0,>=0.7.0->langchain-google-genai) (1.24.0)\n",
            "Requirement already satisfied: anyio in /usr/local/lib/python3.10/dist-packages (from httpx>=0.27.0->chromadb) (3.7.1)\n",
            "Requirement already satisfied: certifi in /usr/local/lib/python3.10/dist-packages (from httpx>=0.27.0->chromadb) (2024.7.4)\n",
            "Requirement already satisfied: httpcore==1.* in /usr/local/lib/python3.10/dist-packages (from httpx>=0.27.0->chromadb) (1.0.5)\n",
            "Requirement already satisfied: idna in /usr/local/lib/python3.10/dist-packages (from httpx>=0.27.0->chromadb) (3.7)\n",
            "Requirement already satisfied: sniffio in /usr/local/lib/python3.10/dist-packages (from httpx>=0.27.0->chromadb) (1.3.1)\n",
            "Requirement already satisfied: h11<0.15,>=0.13 in /usr/local/lib/python3.10/dist-packages (from httpcore==1.*->httpx>=0.27.0->chromadb) (0.14.0)\n",
            "Requirement already satisfied: six>=1.9.0 in /usr/local/lib/python3.10/dist-packages (from kubernetes>=28.1.0->chromadb) (1.16.0)\n",
            "Requirement already satisfied: python-dateutil>=2.5.3 in /usr/local/lib/python3.10/dist-packages (from kubernetes>=28.1.0->chromadb) (2.8.2)\n",
            "Requirement already satisfied: websocket-client!=0.40.0,!=0.41.*,!=0.42.*,>=0.32.0 in /usr/local/lib/python3.10/dist-packages (from kubernetes>=28.1.0->chromadb) (1.8.0)\n",
            "Requirement already satisfied: requests-oauthlib in /usr/local/lib/python3.10/dist-packages (from kubernetes>=28.1.0->chromadb) (1.3.1)\n",
            "Requirement already satisfied: oauthlib>=3.2.2 in /usr/local/lib/python3.10/dist-packages (from kubernetes>=28.1.0->chromadb) (3.2.2)\n",
            "Requirement already satisfied: urllib3>=1.24.2 in /usr/local/lib/python3.10/dist-packages (from kubernetes>=28.1.0->chromadb) (2.0.7)\n",
            "Requirement already satisfied: jsonpatch<2.0,>=1.33 in /usr/local/lib/python3.10/dist-packages (from langchain-core<0.3.0,>=0.2.19->langchain) (1.33)\n",
            "Requirement already satisfied: coloredlogs in /usr/local/lib/python3.10/dist-packages (from onnxruntime>=1.14.1->chromadb) (15.0.1)\n",
            "Requirement already satisfied: flatbuffers in /usr/local/lib/python3.10/dist-packages (from onnxruntime>=1.14.1->chromadb) (24.3.25)\n",
            "Requirement already satisfied: sympy in /usr/local/lib/python3.10/dist-packages (from onnxruntime>=1.14.1->chromadb) (1.13.0)\n",
            "Requirement already satisfied: deprecated>=1.2.6 in /usr/local/lib/python3.10/dist-packages (from opentelemetry-api>=1.2.0->chromadb) (1.2.14)\n",
            "Requirement already satisfied: importlib-metadata<=7.1,>=6.0 in /usr/local/lib/python3.10/dist-packages (from opentelemetry-api>=1.2.0->chromadb) (7.1.0)\n",
            "Requirement already satisfied: googleapis-common-protos~=1.52 in /usr/local/lib/python3.10/dist-packages (from opentelemetry-exporter-otlp-proto-grpc>=1.2.0->chromadb) (1.63.2)\n",
            "Requirement already satisfied: opentelemetry-exporter-otlp-proto-common==1.25.0 in /usr/local/lib/python3.10/dist-packages (from opentelemetry-exporter-otlp-proto-grpc>=1.2.0->chromadb) (1.25.0)\n",
            "Requirement already satisfied: opentelemetry-proto==1.25.0 in /usr/local/lib/python3.10/dist-packages (from opentelemetry-exporter-otlp-proto-grpc>=1.2.0->chromadb) (1.25.0)\n",
            "Requirement already satisfied: opentelemetry-instrumentation-asgi==0.46b0 in /usr/local/lib/python3.10/dist-packages (from opentelemetry-instrumentation-fastapi>=0.41b0->chromadb) (0.46b0)\n",
            "Requirement already satisfied: opentelemetry-instrumentation==0.46b0 in /usr/local/lib/python3.10/dist-packages (from opentelemetry-instrumentation-fastapi>=0.41b0->chromadb) (0.46b0)\n",
            "Requirement already satisfied: opentelemetry-semantic-conventions==0.46b0 in /usr/local/lib/python3.10/dist-packages (from opentelemetry-instrumentation-fastapi>=0.41b0->chromadb) (0.46b0)\n",
            "Requirement already satisfied: opentelemetry-util-http==0.46b0 in /usr/local/lib/python3.10/dist-packages (from opentelemetry-instrumentation-fastapi>=0.41b0->chromadb) (0.46b0)\n",
            "Requirement already satisfied: setuptools>=16.0 in /usr/local/lib/python3.10/dist-packages (from opentelemetry-instrumentation==0.46b0->opentelemetry-instrumentation-fastapi>=0.41b0->chromadb) (67.7.2)\n",
            "Requirement already satisfied: wrapt<2.0.0,>=1.0.0 in /usr/local/lib/python3.10/dist-packages (from opentelemetry-instrumentation==0.46b0->opentelemetry-instrumentation-fastapi>=0.41b0->chromadb) (1.14.1)\n",
            "Requirement already satisfied: asgiref~=3.0 in /usr/local/lib/python3.10/dist-packages (from opentelemetry-instrumentation-asgi==0.46b0->opentelemetry-instrumentation-fastapi>=0.41b0->chromadb) (3.8.1)\n",
            "Requirement already satisfied: monotonic>=1.5 in /usr/local/lib/python3.10/dist-packages (from posthog>=2.4.0->chromadb) (1.6)\n",
            "Requirement already satisfied: backoff>=1.10.0 in /usr/local/lib/python3.10/dist-packages (from posthog>=2.4.0->chromadb) (2.2.1)\n",
            "Requirement already satisfied: annotated-types>=0.4.0 in /usr/local/lib/python3.10/dist-packages (from pydantic<3,>=1->langchain) (0.7.0)\n",
            "Requirement already satisfied: pydantic-core==2.20.1 in /usr/local/lib/python3.10/dist-packages (from pydantic<3,>=1->langchain) (2.20.1)\n",
            "Requirement already satisfied: charset-normalizer<4,>=2 in /usr/local/lib/python3.10/dist-packages (from requests<3,>=2->langchain) (3.3.2)\n",
            "Requirement already satisfied: greenlet!=0.4.17 in /usr/local/lib/python3.10/dist-packages (from SQLAlchemy<3,>=1.4->langchain) (3.0.3)\n",
            "Requirement already satisfied: huggingface-hub<1.0,>=0.16.4 in /usr/local/lib/python3.10/dist-packages (from tokenizers>=0.13.2->chromadb) (0.23.4)\n",
            "Requirement already satisfied: click>=8.0.0 in /usr/local/lib/python3.10/dist-packages (from typer>=0.9.0->chromadb) (8.1.7)\n",
            "Requirement already satisfied: shellingham>=1.3.0 in /usr/local/lib/python3.10/dist-packages (from typer>=0.9.0->chromadb) (1.5.4)\n",
            "Requirement already satisfied: rich>=10.11.0 in /usr/local/lib/python3.10/dist-packages (from typer>=0.9.0->chromadb) (13.7.1)\n",
            "Requirement already satisfied: httptools>=0.5.0 in /usr/local/lib/python3.10/dist-packages (from uvicorn[standard]>=0.18.3->chromadb) (0.6.1)\n",
            "Requirement already satisfied: python-dotenv>=0.13 in /usr/local/lib/python3.10/dist-packages (from uvicorn[standard]>=0.18.3->chromadb) (1.0.1)\n",
            "Requirement already satisfied: uvloop!=0.15.0,!=0.15.1,>=0.14.0 in /usr/local/lib/python3.10/dist-packages (from uvicorn[standard]>=0.18.3->chromadb) (0.19.0)\n",
            "Requirement already satisfied: watchfiles>=0.13 in /usr/local/lib/python3.10/dist-packages (from uvicorn[standard]>=0.18.3->chromadb) (0.22.0)\n",
            "Requirement already satisfied: websockets>=10.4 in /usr/local/lib/python3.10/dist-packages (from uvicorn[standard]>=0.18.3->chromadb) (12.0)\n",
            "Requirement already satisfied: dnspython>=2.0.0 in /usr/local/lib/python3.10/dist-packages (from email_validator>=2.0.0->fastapi>=0.95.2->chromadb) (2.6.1)\n",
            "Requirement already satisfied: cachetools<6.0,>=2.0.0 in /usr/local/lib/python3.10/dist-packages (from google-auth>=2.15.0->google-generativeai<0.8.0,>=0.7.0->langchain-google-genai) (5.3.3)\n",
            "Requirement already satisfied: pyasn1-modules>=0.2.1 in /usr/local/lib/python3.10/dist-packages (from google-auth>=2.15.0->google-generativeai<0.8.0,>=0.7.0->langchain-google-genai) (0.4.0)\n",
            "Requirement already satisfied: rsa<5,>=3.1.4 in /usr/local/lib/python3.10/dist-packages (from google-auth>=2.15.0->google-generativeai<0.8.0,>=0.7.0->langchain-google-genai) (4.9)\n",
            "Requirement already satisfied: filelock in /usr/local/lib/python3.10/dist-packages (from huggingface-hub<1.0,>=0.16.4->tokenizers>=0.13.2->chromadb) (3.15.4)\n",
            "Requirement already satisfied: fsspec>=2023.5.0 in /usr/local/lib/python3.10/dist-packages (from huggingface-hub<1.0,>=0.16.4->tokenizers>=0.13.2->chromadb) (2023.6.0)\n",
            "Requirement already satisfied: zipp>=0.5 in /usr/local/lib/python3.10/dist-packages (from importlib-metadata<=7.1,>=6.0->opentelemetry-api>=1.2.0->chromadb) (3.19.2)\n",
            "Requirement already satisfied: MarkupSafe>=2.0 in /usr/local/lib/python3.10/dist-packages (from jinja2>=2.11.2->fastapi>=0.95.2->chromadb) (2.1.5)\n",
            "Requirement already satisfied: jsonpointer>=1.9 in /usr/local/lib/python3.10/dist-packages (from jsonpatch<2.0,>=1.33->langchain-core<0.3.0,>=0.2.19->langchain) (3.0.0)\n",
            "Requirement already satisfied: markdown-it-py>=2.2.0 in /usr/local/lib/python3.10/dist-packages (from rich>=10.11.0->typer>=0.9.0->chromadb) (3.0.0)\n",
            "Requirement already satisfied: pygments<3.0.0,>=2.13.0 in /usr/local/lib/python3.10/dist-packages (from rich>=10.11.0->typer>=0.9.0->chromadb) (2.16.1)\n",
            "Requirement already satisfied: exceptiongroup in /usr/local/lib/python3.10/dist-packages (from anyio->httpx>=0.27.0->chromadb) (1.2.1)\n",
            "Requirement already satisfied: mypy-extensions>=0.3.0 in /usr/local/lib/python3.10/dist-packages (from typing-inspect<1,>=0.4.0->dataclasses-json<0.7,>=0.5.7->langchain_community) (1.0.0)\n",
            "Requirement already satisfied: humanfriendly>=9.1 in /usr/local/lib/python3.10/dist-packages (from coloredlogs->onnxruntime>=1.14.1->chromadb) (10.0)\n",
            "Requirement already satisfied: httplib2<1dev,>=0.15.0 in /usr/local/lib/python3.10/dist-packages (from google-api-python-client->google-generativeai<0.8.0,>=0.7.0->langchain-google-genai) (0.22.0)\n",
            "Requirement already satisfied: google-auth-httplib2>=0.1.0 in /usr/local/lib/python3.10/dist-packages (from google-api-python-client->google-generativeai<0.8.0,>=0.7.0->langchain-google-genai) (0.1.1)\n",
            "Requirement already satisfied: uritemplate<5,>=3.0.1 in /usr/local/lib/python3.10/dist-packages (from google-api-python-client->google-generativeai<0.8.0,>=0.7.0->langchain-google-genai) (4.1.1)\n",
            "Requirement already satisfied: mpmath<1.4,>=1.1.0 in /usr/local/lib/python3.10/dist-packages (from sympy->onnxruntime>=1.14.1->chromadb) (1.3.0)\n",
            "Requirement already satisfied: grpcio-status<2.0.dev0,>=1.33.2 in /usr/local/lib/python3.10/dist-packages (from google-api-core->google-generativeai<0.8.0,>=0.7.0->langchain-google-genai) (1.48.2)\n",
            "Requirement already satisfied: pyparsing!=3.0.0,!=3.0.1,!=3.0.2,!=3.0.3,<4,>=2.4.2 in /usr/local/lib/python3.10/dist-packages (from httplib2<1dev,>=0.15.0->google-api-python-client->google-generativeai<0.8.0,>=0.7.0->langchain-google-genai) (3.1.2)\n",
            "Requirement already satisfied: mdurl~=0.1 in /usr/local/lib/python3.10/dist-packages (from markdown-it-py>=2.2.0->rich>=10.11.0->typer>=0.9.0->chromadb) (0.1.2)\n",
            "Requirement already satisfied: pyasn1<0.7.0,>=0.4.6 in /usr/local/lib/python3.10/dist-packages (from pyasn1-modules>=0.2.1->google-auth>=2.15.0->google-generativeai<0.8.0,>=0.7.0->langchain-google-genai) (0.6.0)\n"
          ]
        }
      ],
      "source": [
        "!pip install langchain langchain_community chromadb langchain_mistralai langchain-google-genai"
      ]
    },
    {
      "cell_type": "code",
      "source": [
        "!pip install \"unstructured[all-docs]\""
      ],
      "metadata": {
        "id": "kbj3-uCheXVS",
        "colab": {
          "base_uri": "https://localhost:8080/"
        },
        "outputId": "d26fb0bb-f120-45ed-de68-4b715301ca30"
      },
      "execution_count": 4,
      "outputs": [
        {
          "output_type": "stream",
          "name": "stdout",
          "text": [
            "Requirement already satisfied: unstructured[all-docs] in /usr/local/lib/python3.10/dist-packages (0.14.10)\n",
            "Requirement already satisfied: chardet in /usr/local/lib/python3.10/dist-packages (from unstructured[all-docs]) (5.2.0)\n",
            "Requirement already satisfied: filetype in /usr/local/lib/python3.10/dist-packages (from unstructured[all-docs]) (1.2.0)\n",
            "Requirement already satisfied: python-magic in /usr/local/lib/python3.10/dist-packages (from unstructured[all-docs]) (0.4.27)\n",
            "Requirement already satisfied: lxml in /usr/local/lib/python3.10/dist-packages (from unstructured[all-docs]) (4.9.4)\n",
            "Requirement already satisfied: nltk in /usr/local/lib/python3.10/dist-packages (from unstructured[all-docs]) (3.8.1)\n",
            "Requirement already satisfied: tabulate in /usr/local/lib/python3.10/dist-packages (from unstructured[all-docs]) (0.9.0)\n",
            "Requirement already satisfied: requests in /usr/local/lib/python3.10/dist-packages (from unstructured[all-docs]) (2.31.0)\n",
            "Requirement already satisfied: beautifulsoup4 in /usr/local/lib/python3.10/dist-packages (from unstructured[all-docs]) (4.12.3)\n",
            "Requirement already satisfied: emoji in /usr/local/lib/python3.10/dist-packages (from unstructured[all-docs]) (2.12.1)\n",
            "Requirement already satisfied: dataclasses-json in /usr/local/lib/python3.10/dist-packages (from unstructured[all-docs]) (0.6.7)\n",
            "Requirement already satisfied: python-iso639 in /usr/local/lib/python3.10/dist-packages (from unstructured[all-docs]) (2024.4.27)\n",
            "Requirement already satisfied: langdetect in /usr/local/lib/python3.10/dist-packages (from unstructured[all-docs]) (1.0.9)\n",
            "Requirement already satisfied: numpy<2 in /usr/local/lib/python3.10/dist-packages (from unstructured[all-docs]) (1.25.2)\n",
            "Requirement already satisfied: rapidfuzz in /usr/local/lib/python3.10/dist-packages (from unstructured[all-docs]) (3.9.4)\n",
            "Requirement already satisfied: backoff in /usr/local/lib/python3.10/dist-packages (from unstructured[all-docs]) (2.2.1)\n",
            "Requirement already satisfied: typing-extensions in /usr/local/lib/python3.10/dist-packages (from unstructured[all-docs]) (4.12.2)\n",
            "Requirement already satisfied: unstructured-client in /usr/local/lib/python3.10/dist-packages (from unstructured[all-docs]) (0.24.1)\n",
            "Requirement already satisfied: wrapt in /usr/local/lib/python3.10/dist-packages (from unstructured[all-docs]) (1.14.1)\n",
            "Requirement already satisfied: tqdm in /usr/local/lib/python3.10/dist-packages (from unstructured[all-docs]) (4.66.4)\n",
            "Requirement already satisfied: psutil in /usr/local/lib/python3.10/dist-packages (from unstructured[all-docs]) (5.9.5)\n",
            "Requirement already satisfied: pillow-heif in /usr/local/lib/python3.10/dist-packages (from unstructured[all-docs]) (0.17.0)\n",
            "Requirement already satisfied: networkx in /usr/local/lib/python3.10/dist-packages (from unstructured[all-docs]) (3.3)\n",
            "Requirement already satisfied: pypandoc in /usr/local/lib/python3.10/dist-packages (from unstructured[all-docs]) (1.13)\n",
            "Requirement already satisfied: pdf2image in /usr/local/lib/python3.10/dist-packages (from unstructured[all-docs]) (1.17.0)\n",
            "Requirement already satisfied: unstructured.pytesseract>=0.3.12 in /usr/local/lib/python3.10/dist-packages (from unstructured[all-docs]) (0.3.12)\n",
            "Requirement already satisfied: python-oxmsg in /usr/local/lib/python3.10/dist-packages (from unstructured[all-docs]) (0.0.1)\n",
            "Requirement already satisfied: pandas in /usr/local/lib/python3.10/dist-packages (from unstructured[all-docs]) (2.0.3)\n",
            "Requirement already satisfied: pikepdf in /usr/local/lib/python3.10/dist-packages (from unstructured[all-docs]) (9.0.0)\n",
            "Requirement already satisfied: effdet in /usr/local/lib/python3.10/dist-packages (from unstructured[all-docs]) (0.4.1)\n",
            "Requirement already satisfied: pdfminer.six in /usr/local/lib/python3.10/dist-packages (from unstructured[all-docs]) (20231228)\n",
            "Requirement already satisfied: google-cloud-vision in /usr/local/lib/python3.10/dist-packages (from unstructured[all-docs]) (3.7.3)\n",
            "Requirement already satisfied: pypdf in /usr/local/lib/python3.10/dist-packages (from unstructured[all-docs]) (4.3.0)\n",
            "Requirement already satisfied: openpyxl in /usr/local/lib/python3.10/dist-packages (from unstructured[all-docs]) (3.1.5)\n",
            "Requirement already satisfied: unstructured-inference==0.7.36 in /usr/local/lib/python3.10/dist-packages (from unstructured[all-docs]) (0.7.36)\n",
            "Requirement already satisfied: onnx in /usr/local/lib/python3.10/dist-packages (from unstructured[all-docs]) (1.16.1)\n",
            "Requirement already satisfied: pytesseract in /usr/local/lib/python3.10/dist-packages (from unstructured[all-docs]) (0.3.10)\n",
            "Requirement already satisfied: markdown in /usr/local/lib/python3.10/dist-packages (from unstructured[all-docs]) (3.6)\n",
            "Requirement already satisfied: python-docx>=1.1.2 in /usr/local/lib/python3.10/dist-packages (from unstructured[all-docs]) (1.1.2)\n",
            "Requirement already satisfied: python-pptx<=0.6.23 in /usr/local/lib/python3.10/dist-packages (from unstructured[all-docs]) (0.6.23)\n",
            "Requirement already satisfied: xlrd in /usr/local/lib/python3.10/dist-packages (from unstructured[all-docs]) (2.0.1)\n",
            "Requirement already satisfied: layoutparser in /usr/local/lib/python3.10/dist-packages (from unstructured-inference==0.7.36->unstructured[all-docs]) (0.3.4)\n",
            "Requirement already satisfied: python-multipart in /usr/local/lib/python3.10/dist-packages (from unstructured-inference==0.7.36->unstructured[all-docs]) (0.0.9)\n",
            "Requirement already satisfied: huggingface-hub in /usr/local/lib/python3.10/dist-packages (from unstructured-inference==0.7.36->unstructured[all-docs]) (0.23.4)\n",
            "Requirement already satisfied: opencv-python!=4.7.0.68 in /usr/local/lib/python3.10/dist-packages (from unstructured-inference==0.7.36->unstructured[all-docs]) (4.8.0.76)\n",
            "Requirement already satisfied: onnxruntime>=1.17.0 in /usr/local/lib/python3.10/dist-packages (from unstructured-inference==0.7.36->unstructured[all-docs]) (1.18.1)\n",
            "Requirement already satisfied: matplotlib in /usr/local/lib/python3.10/dist-packages (from unstructured-inference==0.7.36->unstructured[all-docs]) (3.7.1)\n",
            "Requirement already satisfied: torch in /usr/local/lib/python3.10/dist-packages (from unstructured-inference==0.7.36->unstructured[all-docs]) (2.3.0+cu121)\n",
            "Requirement already satisfied: timm in /usr/local/lib/python3.10/dist-packages (from unstructured-inference==0.7.36->unstructured[all-docs]) (1.0.7)\n",
            "Requirement already satisfied: transformers>=4.25.1 in /usr/local/lib/python3.10/dist-packages (from unstructured-inference==0.7.36->unstructured[all-docs]) (4.41.2)\n",
            "Requirement already satisfied: Pillow>=3.3.2 in /usr/local/lib/python3.10/dist-packages (from python-pptx<=0.6.23->unstructured[all-docs]) (10.4.0)\n",
            "Requirement already satisfied: XlsxWriter>=0.5.7 in /usr/local/lib/python3.10/dist-packages (from python-pptx<=0.6.23->unstructured[all-docs]) (3.2.0)\n",
            "Requirement already satisfied: packaging>=21.3 in /usr/local/lib/python3.10/dist-packages (from unstructured.pytesseract>=0.3.12->unstructured[all-docs]) (24.1)\n",
            "Requirement already satisfied: soupsieve>1.2 in /usr/local/lib/python3.10/dist-packages (from beautifulsoup4->unstructured[all-docs]) (2.5)\n",
            "Requirement already satisfied: marshmallow<4.0.0,>=3.18.0 in /usr/local/lib/python3.10/dist-packages (from dataclasses-json->unstructured[all-docs]) (3.21.3)\n",
            "Requirement already satisfied: typing-inspect<1,>=0.4.0 in /usr/local/lib/python3.10/dist-packages (from dataclasses-json->unstructured[all-docs]) (0.9.0)\n",
            "Requirement already satisfied: torchvision in /usr/local/lib/python3.10/dist-packages (from effdet->unstructured[all-docs]) (0.18.0+cu121)\n",
            "Requirement already satisfied: pycocotools>=2.0.2 in /usr/local/lib/python3.10/dist-packages (from effdet->unstructured[all-docs]) (2.0.8)\n",
            "Requirement already satisfied: omegaconf>=2.0 in /usr/local/lib/python3.10/dist-packages (from effdet->unstructured[all-docs]) (2.3.0)\n",
            "Requirement already satisfied: google-api-core[grpc]!=2.0.*,!=2.1.*,!=2.10.*,!=2.2.*,!=2.3.*,!=2.4.*,!=2.5.*,!=2.6.*,!=2.7.*,!=2.8.*,!=2.9.*,<3.0.0dev,>=1.34.1 in /usr/local/lib/python3.10/dist-packages (from google-cloud-vision->unstructured[all-docs]) (2.16.2)\n",
            "Requirement already satisfied: google-auth!=2.24.0,!=2.25.0,<3.0.0dev,>=2.14.1 in /usr/local/lib/python3.10/dist-packages (from google-cloud-vision->unstructured[all-docs]) (2.27.0)\n",
            "Requirement already satisfied: proto-plus<2.0.0dev,>=1.22.3 in /usr/local/lib/python3.10/dist-packages (from google-cloud-vision->unstructured[all-docs]) (1.24.0)\n",
            "Requirement already satisfied: protobuf!=4.21.0,!=4.21.1,!=4.21.2,!=4.21.3,!=4.21.4,!=4.21.5,<6.0.0dev,>=3.20.2 in /usr/local/lib/python3.10/dist-packages (from google-cloud-vision->unstructured[all-docs]) (3.20.3)\n",
            "Requirement already satisfied: six in /usr/local/lib/python3.10/dist-packages (from langdetect->unstructured[all-docs]) (1.16.0)\n",
            "Requirement already satisfied: click in /usr/local/lib/python3.10/dist-packages (from nltk->unstructured[all-docs]) (8.1.7)\n",
            "Requirement already satisfied: joblib in /usr/local/lib/python3.10/dist-packages (from nltk->unstructured[all-docs]) (1.4.2)\n",
            "Requirement already satisfied: regex>=2021.8.3 in /usr/local/lib/python3.10/dist-packages (from nltk->unstructured[all-docs]) (2024.5.15)\n",
            "Requirement already satisfied: et-xmlfile in /usr/local/lib/python3.10/dist-packages (from openpyxl->unstructured[all-docs]) (1.1.0)\n",
            "Requirement already satisfied: python-dateutil>=2.8.2 in /usr/local/lib/python3.10/dist-packages (from pandas->unstructured[all-docs]) (2.8.2)\n",
            "Requirement already satisfied: pytz>=2020.1 in /usr/local/lib/python3.10/dist-packages (from pandas->unstructured[all-docs]) (2023.4)\n",
            "Requirement already satisfied: tzdata>=2022.1 in /usr/local/lib/python3.10/dist-packages (from pandas->unstructured[all-docs]) (2024.1)\n",
            "Requirement already satisfied: charset-normalizer>=2.0.0 in /usr/local/lib/python3.10/dist-packages (from pdfminer.six->unstructured[all-docs]) (3.3.2)\n",
            "Requirement already satisfied: cryptography>=36.0.0 in /usr/local/lib/python3.10/dist-packages (from pdfminer.six->unstructured[all-docs]) (42.0.8)\n",
            "Requirement already satisfied: Deprecated in /usr/local/lib/python3.10/dist-packages (from pikepdf->unstructured[all-docs]) (1.2.14)\n",
            "Requirement already satisfied: olefile in /usr/local/lib/python3.10/dist-packages (from python-oxmsg->unstructured[all-docs]) (0.47)\n",
            "Requirement already satisfied: idna<4,>=2.5 in /usr/local/lib/python3.10/dist-packages (from requests->unstructured[all-docs]) (3.7)\n",
            "Requirement already satisfied: urllib3<3,>=1.21.1 in /usr/local/lib/python3.10/dist-packages (from requests->unstructured[all-docs]) (2.0.7)\n",
            "Requirement already satisfied: certifi>=2017.4.17 in /usr/local/lib/python3.10/dist-packages (from requests->unstructured[all-docs]) (2024.7.4)\n",
            "Requirement already satisfied: deepdiff>=6.0 in /usr/local/lib/python3.10/dist-packages (from unstructured-client->unstructured[all-docs]) (7.0.1)\n",
            "Requirement already satisfied: httpx>=0.27.0 in /usr/local/lib/python3.10/dist-packages (from unstructured-client->unstructured[all-docs]) (0.27.0)\n",
            "Requirement already satisfied: jsonpath-python>=1.0.6 in /usr/local/lib/python3.10/dist-packages (from unstructured-client->unstructured[all-docs]) (1.0.6)\n",
            "Requirement already satisfied: mypy-extensions>=1.0.0 in /usr/local/lib/python3.10/dist-packages (from unstructured-client->unstructured[all-docs]) (1.0.0)\n",
            "Requirement already satisfied: nest-asyncio>=1.6.0 in /usr/local/lib/python3.10/dist-packages (from unstructured-client->unstructured[all-docs]) (1.6.0)\n",
            "Requirement already satisfied: requests-toolbelt>=1.0.0 in /usr/local/lib/python3.10/dist-packages (from unstructured-client->unstructured[all-docs]) (1.0.0)\n",
            "Requirement already satisfied: cffi>=1.12 in /usr/local/lib/python3.10/dist-packages (from cryptography>=36.0.0->pdfminer.six->unstructured[all-docs]) (1.16.0)\n",
            "Requirement already satisfied: ordered-set<4.2.0,>=4.1.0 in /usr/local/lib/python3.10/dist-packages (from deepdiff>=6.0->unstructured-client->unstructured[all-docs]) (4.1.0)\n",
            "Requirement already satisfied: googleapis-common-protos<2.0.dev0,>=1.56.2 in /usr/local/lib/python3.10/dist-packages (from google-api-core[grpc]!=2.0.*,!=2.1.*,!=2.10.*,!=2.2.*,!=2.3.*,!=2.4.*,!=2.5.*,!=2.6.*,!=2.7.*,!=2.8.*,!=2.9.*,<3.0.0dev,>=1.34.1->google-cloud-vision->unstructured[all-docs]) (1.63.2)\n",
            "Requirement already satisfied: grpcio<2.0dev,>=1.33.2 in /usr/local/lib/python3.10/dist-packages (from google-api-core[grpc]!=2.0.*,!=2.1.*,!=2.10.*,!=2.2.*,!=2.3.*,!=2.4.*,!=2.5.*,!=2.6.*,!=2.7.*,!=2.8.*,!=2.9.*,<3.0.0dev,>=1.34.1->google-cloud-vision->unstructured[all-docs]) (1.64.1)\n",
            "Requirement already satisfied: grpcio-status<2.0.dev0,>=1.33.2 in /usr/local/lib/python3.10/dist-packages (from google-api-core[grpc]!=2.0.*,!=2.1.*,!=2.10.*,!=2.2.*,!=2.3.*,!=2.4.*,!=2.5.*,!=2.6.*,!=2.7.*,!=2.8.*,!=2.9.*,<3.0.0dev,>=1.34.1->google-cloud-vision->unstructured[all-docs]) (1.48.2)\n",
            "Requirement already satisfied: cachetools<6.0,>=2.0.0 in /usr/local/lib/python3.10/dist-packages (from google-auth!=2.24.0,!=2.25.0,<3.0.0dev,>=2.14.1->google-cloud-vision->unstructured[all-docs]) (5.3.3)\n",
            "Requirement already satisfied: pyasn1-modules>=0.2.1 in /usr/local/lib/python3.10/dist-packages (from google-auth!=2.24.0,!=2.25.0,<3.0.0dev,>=2.14.1->google-cloud-vision->unstructured[all-docs]) (0.4.0)\n",
            "Requirement already satisfied: rsa<5,>=3.1.4 in /usr/local/lib/python3.10/dist-packages (from google-auth!=2.24.0,!=2.25.0,<3.0.0dev,>=2.14.1->google-cloud-vision->unstructured[all-docs]) (4.9)\n",
            "Requirement already satisfied: anyio in /usr/local/lib/python3.10/dist-packages (from httpx>=0.27.0->unstructured-client->unstructured[all-docs]) (3.7.1)\n",
            "Requirement already satisfied: httpcore==1.* in /usr/local/lib/python3.10/dist-packages (from httpx>=0.27.0->unstructured-client->unstructured[all-docs]) (1.0.5)\n",
            "Requirement already satisfied: sniffio in /usr/local/lib/python3.10/dist-packages (from httpx>=0.27.0->unstructured-client->unstructured[all-docs]) (1.3.1)\n",
            "Requirement already satisfied: h11<0.15,>=0.13 in /usr/local/lib/python3.10/dist-packages (from httpcore==1.*->httpx>=0.27.0->unstructured-client->unstructured[all-docs]) (0.14.0)\n",
            "Requirement already satisfied: antlr4-python3-runtime==4.9.* in /usr/local/lib/python3.10/dist-packages (from omegaconf>=2.0->effdet->unstructured[all-docs]) (4.9.3)\n",
            "Requirement already satisfied: PyYAML>=5.1.0 in /usr/local/lib/python3.10/dist-packages (from omegaconf>=2.0->effdet->unstructured[all-docs]) (6.0.1)\n",
            "Requirement already satisfied: coloredlogs in /usr/local/lib/python3.10/dist-packages (from onnxruntime>=1.17.0->unstructured-inference==0.7.36->unstructured[all-docs]) (15.0.1)\n",
            "Requirement already satisfied: flatbuffers in /usr/local/lib/python3.10/dist-packages (from onnxruntime>=1.17.0->unstructured-inference==0.7.36->unstructured[all-docs]) (24.3.25)\n",
            "Requirement already satisfied: sympy in /usr/local/lib/python3.10/dist-packages (from onnxruntime>=1.17.0->unstructured-inference==0.7.36->unstructured[all-docs]) (1.13.0)\n",
            "Requirement already satisfied: contourpy>=1.0.1 in /usr/local/lib/python3.10/dist-packages (from matplotlib->unstructured-inference==0.7.36->unstructured[all-docs]) (1.2.1)\n",
            "Requirement already satisfied: cycler>=0.10 in /usr/local/lib/python3.10/dist-packages (from matplotlib->unstructured-inference==0.7.36->unstructured[all-docs]) (0.12.1)\n",
            "Requirement already satisfied: fonttools>=4.22.0 in /usr/local/lib/python3.10/dist-packages (from matplotlib->unstructured-inference==0.7.36->unstructured[all-docs]) (4.53.1)\n",
            "Requirement already satisfied: kiwisolver>=1.0.1 in /usr/local/lib/python3.10/dist-packages (from matplotlib->unstructured-inference==0.7.36->unstructured[all-docs]) (1.4.5)\n",
            "Requirement already satisfied: pyparsing>=2.3.1 in /usr/local/lib/python3.10/dist-packages (from matplotlib->unstructured-inference==0.7.36->unstructured[all-docs]) (3.1.2)\n",
            "Requirement already satisfied: safetensors in /usr/local/lib/python3.10/dist-packages (from timm->unstructured-inference==0.7.36->unstructured[all-docs]) (0.4.3)\n",
            "Requirement already satisfied: filelock in /usr/local/lib/python3.10/dist-packages (from torch->unstructured-inference==0.7.36->unstructured[all-docs]) (3.15.4)\n",
            "Requirement already satisfied: jinja2 in /usr/local/lib/python3.10/dist-packages (from torch->unstructured-inference==0.7.36->unstructured[all-docs]) (3.1.4)\n",
            "Requirement already satisfied: fsspec in /usr/local/lib/python3.10/dist-packages (from torch->unstructured-inference==0.7.36->unstructured[all-docs]) (2023.6.0)\n",
            "Requirement already satisfied: nvidia-cuda-nvrtc-cu12==12.1.105 in /usr/local/lib/python3.10/dist-packages (from torch->unstructured-inference==0.7.36->unstructured[all-docs]) (12.1.105)\n",
            "Requirement already satisfied: nvidia-cuda-runtime-cu12==12.1.105 in /usr/local/lib/python3.10/dist-packages (from torch->unstructured-inference==0.7.36->unstructured[all-docs]) (12.1.105)\n",
            "Requirement already satisfied: nvidia-cuda-cupti-cu12==12.1.105 in /usr/local/lib/python3.10/dist-packages (from torch->unstructured-inference==0.7.36->unstructured[all-docs]) (12.1.105)\n",
            "Requirement already satisfied: nvidia-cudnn-cu12==8.9.2.26 in /usr/local/lib/python3.10/dist-packages (from torch->unstructured-inference==0.7.36->unstructured[all-docs]) (8.9.2.26)\n",
            "Requirement already satisfied: nvidia-cublas-cu12==12.1.3.1 in /usr/local/lib/python3.10/dist-packages (from torch->unstructured-inference==0.7.36->unstructured[all-docs]) (12.1.3.1)\n",
            "Requirement already satisfied: nvidia-cufft-cu12==11.0.2.54 in /usr/local/lib/python3.10/dist-packages (from torch->unstructured-inference==0.7.36->unstructured[all-docs]) (11.0.2.54)\n",
            "Requirement already satisfied: nvidia-curand-cu12==10.3.2.106 in /usr/local/lib/python3.10/dist-packages (from torch->unstructured-inference==0.7.36->unstructured[all-docs]) (10.3.2.106)\n",
            "Requirement already satisfied: nvidia-cusolver-cu12==11.4.5.107 in /usr/local/lib/python3.10/dist-packages (from torch->unstructured-inference==0.7.36->unstructured[all-docs]) (11.4.5.107)\n",
            "Requirement already satisfied: nvidia-cusparse-cu12==12.1.0.106 in /usr/local/lib/python3.10/dist-packages (from torch->unstructured-inference==0.7.36->unstructured[all-docs]) (12.1.0.106)\n",
            "Requirement already satisfied: nvidia-nccl-cu12==2.20.5 in /usr/local/lib/python3.10/dist-packages (from torch->unstructured-inference==0.7.36->unstructured[all-docs]) (2.20.5)\n",
            "Requirement already satisfied: nvidia-nvtx-cu12==12.1.105 in /usr/local/lib/python3.10/dist-packages (from torch->unstructured-inference==0.7.36->unstructured[all-docs]) (12.1.105)\n",
            "Requirement already satisfied: triton==2.3.0 in /usr/local/lib/python3.10/dist-packages (from torch->unstructured-inference==0.7.36->unstructured[all-docs]) (2.3.0)\n",
            "Requirement already satisfied: nvidia-nvjitlink-cu12 in /usr/local/lib/python3.10/dist-packages (from nvidia-cusolver-cu12==11.4.5.107->torch->unstructured-inference==0.7.36->unstructured[all-docs]) (12.5.82)\n",
            "Requirement already satisfied: tokenizers<0.20,>=0.19 in /usr/local/lib/python3.10/dist-packages (from transformers>=4.25.1->unstructured-inference==0.7.36->unstructured[all-docs]) (0.19.1)\n",
            "Requirement already satisfied: scipy in /usr/local/lib/python3.10/dist-packages (from layoutparser->unstructured-inference==0.7.36->unstructured[all-docs]) (1.11.4)\n",
            "Requirement already satisfied: iopath in /usr/local/lib/python3.10/dist-packages (from layoutparser->unstructured-inference==0.7.36->unstructured[all-docs]) (0.1.10)\n",
            "Requirement already satisfied: pdfplumber in /usr/local/lib/python3.10/dist-packages (from layoutparser->unstructured-inference==0.7.36->unstructured[all-docs]) (0.11.2)\n",
            "Requirement already satisfied: pycparser in /usr/local/lib/python3.10/dist-packages (from cffi>=1.12->cryptography>=36.0.0->pdfminer.six->unstructured[all-docs]) (2.22)\n",
            "Requirement already satisfied: pyasn1<0.7.0,>=0.4.6 in /usr/local/lib/python3.10/dist-packages (from pyasn1-modules>=0.2.1->google-auth!=2.24.0,!=2.25.0,<3.0.0dev,>=2.14.1->google-cloud-vision->unstructured[all-docs]) (0.6.0)\n",
            "Requirement already satisfied: exceptiongroup in /usr/local/lib/python3.10/dist-packages (from anyio->httpx>=0.27.0->unstructured-client->unstructured[all-docs]) (1.2.1)\n",
            "Requirement already satisfied: humanfriendly>=9.1 in /usr/local/lib/python3.10/dist-packages (from coloredlogs->onnxruntime>=1.17.0->unstructured-inference==0.7.36->unstructured[all-docs]) (10.0)\n",
            "Requirement already satisfied: portalocker in /usr/local/lib/python3.10/dist-packages (from iopath->layoutparser->unstructured-inference==0.7.36->unstructured[all-docs]) (2.10.1)\n",
            "Requirement already satisfied: MarkupSafe>=2.0 in /usr/local/lib/python3.10/dist-packages (from jinja2->torch->unstructured-inference==0.7.36->unstructured[all-docs]) (2.1.5)\n",
            "Requirement already satisfied: pypdfium2>=4.18.0 in /usr/local/lib/python3.10/dist-packages (from pdfplumber->layoutparser->unstructured-inference==0.7.36->unstructured[all-docs]) (4.30.0)\n",
            "Requirement already satisfied: mpmath<1.4,>=1.1.0 in /usr/local/lib/python3.10/dist-packages (from sympy->onnxruntime>=1.17.0->unstructured-inference==0.7.36->unstructured[all-docs]) (1.3.0)\n"
          ]
        }
      ]
    },
    {
      "cell_type": "code",
      "source": [
        "!sudo apt install tesseract-ocr\n",
        "!sudo apt-get install poppler-utils"
      ],
      "metadata": {
        "colab": {
          "base_uri": "https://localhost:8080/"
        },
        "id": "xE5k7TLfMnCl",
        "outputId": "27cddb3c-1e44-4e7e-bd33-3fc5ac9d8589"
      },
      "execution_count": 5,
      "outputs": [
        {
          "output_type": "stream",
          "name": "stdout",
          "text": [
            "Reading package lists... Done\n",
            "Building dependency tree... Done\n",
            "Reading state information... Done\n",
            "The following additional packages will be installed:\n",
            "  tesseract-ocr-eng tesseract-ocr-osd\n",
            "The following NEW packages will be installed:\n",
            "  tesseract-ocr tesseract-ocr-eng tesseract-ocr-osd\n",
            "0 upgraded, 3 newly installed, 0 to remove and 45 not upgraded.\n",
            "Need to get 4,816 kB of archives.\n",
            "After this operation, 15.6 MB of additional disk space will be used.\n",
            "Get:1 http://archive.ubuntu.com/ubuntu jammy/universe amd64 tesseract-ocr-eng all 1:4.00~git30-7274cfa-1.1 [1,591 kB]\n",
            "Get:2 http://archive.ubuntu.com/ubuntu jammy/universe amd64 tesseract-ocr-osd all 1:4.00~git30-7274cfa-1.1 [2,990 kB]\n",
            "Get:3 http://archive.ubuntu.com/ubuntu jammy/universe amd64 tesseract-ocr amd64 4.1.1-2.1build1 [236 kB]\n",
            "Fetched 4,816 kB in 1s (5,063 kB/s)\n",
            "debconf: unable to initialize frontend: Dialog\n",
            "debconf: (No usable dialog-like program is installed, so the dialog based frontend cannot be used. at /usr/share/perl5/Debconf/FrontEnd/Dialog.pm line 78, <> line 3.)\n",
            "debconf: falling back to frontend: Readline\n",
            "debconf: unable to initialize frontend: Readline\n",
            "debconf: (This frontend requires a controlling tty.)\n",
            "debconf: falling back to frontend: Teletype\n",
            "dpkg-preconfigure: unable to re-open stdin: \n",
            "Selecting previously unselected package tesseract-ocr-eng.\n",
            "(Reading database ... 123606 files and directories currently installed.)\n",
            "Preparing to unpack .../tesseract-ocr-eng_1%3a4.00~git30-7274cfa-1.1_all.deb ...\n",
            "Unpacking tesseract-ocr-eng (1:4.00~git30-7274cfa-1.1) ...\n",
            "Selecting previously unselected package tesseract-ocr-osd.\n",
            "Preparing to unpack .../tesseract-ocr-osd_1%3a4.00~git30-7274cfa-1.1_all.deb ...\n",
            "Unpacking tesseract-ocr-osd (1:4.00~git30-7274cfa-1.1) ...\n",
            "Selecting previously unselected package tesseract-ocr.\n",
            "Preparing to unpack .../tesseract-ocr_4.1.1-2.1build1_amd64.deb ...\n",
            "Unpacking tesseract-ocr (4.1.1-2.1build1) ...\n",
            "Setting up tesseract-ocr-eng (1:4.00~git30-7274cfa-1.1) ...\n",
            "Setting up tesseract-ocr-osd (1:4.00~git30-7274cfa-1.1) ...\n",
            "Setting up tesseract-ocr (4.1.1-2.1build1) ...\n",
            "Processing triggers for man-db (2.10.2-1) ...\n",
            "Reading package lists... Done\n",
            "Building dependency tree... Done\n",
            "Reading state information... Done\n",
            "poppler-utils is already the newest version (22.02.0-2ubuntu0.4).\n",
            "0 upgraded, 0 newly installed, 0 to remove and 45 not upgraded.\n"
          ]
        }
      ]
    },
    {
      "cell_type": "code",
      "source": [
        "from unstructured.partition.pdf import partition_pdf\n",
        "\n",
        "image_path = \"./images\"\n",
        "pdf_elements = partition_pdf(\n",
        "    \"LG-Washer.pdf\",\n",
        "    chunking_strategy=\"by_title\",\n",
        "    extract_images_in_pdf=True,\n",
        "    max_characters=5000,\n",
        "    new_after_n_chars = 3000,\n",
        "    combine_text_under_n_chars = 2000,\n",
        "    image_block_output_dir=image_path\n",
        ")"
      ],
      "metadata": {
        "id": "qmC0pzsQNaAK"
      },
      "execution_count": 7,
      "outputs": []
    },
    {
      "cell_type": "code",
      "source": [
        "# Catgorize elements by type\n",
        "def categorize_elements(raw_pdf_elemnst):\n",
        "  \"\"\"\n",
        "  Catgorize extracted elements from a PDF into tables and texts.\n",
        "  raw_pdf_elemnts: List of unstructured.documents.Documents.elements\n",
        "  \"\"\"\n",
        "\n",
        "  tables = []\n",
        "  texts = []\n",
        "  for element in raw_pdf_elemnst:\n",
        "\n",
        "      if \"unstructured.documents.elements.Table\" in str(type(element)):\n",
        "            tables.append(str(element))\n",
        "      elif \"unstructured.documents.elements.CompositeElement\" in str(type(element)):\n",
        "            texts.append(str(element))\n",
        "  return texts, tables\n",
        "\n",
        "\n",
        "texts, tables = categorize_elements(pdf_elements)"
      ],
      "metadata": {
        "id": "Ru2oZl9RRKKM"
      },
      "execution_count": 8,
      "outputs": []
    },
    {
      "cell_type": "code",
      "source": [
        "texts[23]"
      ],
      "metadata": {
        "colab": {
          "base_uri": "https://localhost:8080/",
          "height": 244
        },
        "id": "p0HOji6ZU5Tn",
        "outputId": "9c2b677e-46f1-4201-f14f-be07c6188b99"
      },
      "execution_count": 13,
      "outputs": [
        {
          "output_type": "execute_result",
          "data": {
            "text/plain": [
              "'selecting a cycle to drain and spin the load.\\n\\nIf no beep, change the noise filter, includin the fuse.\\n\\n32\\n\\nCopyright © 2016 - 2017 LG Electronics Inc. All rights reserved. Only training and service purposes.\\n\\nDRAIN ERROR\\n\\nIs OE displayed?\\n\\nYes\\n\\nIs the connector connected to pump motor assembly disconnected or disassembled?\\n\\nvt)\\n\\nReconnect or repair the connector\\n\\nConnection connector\\n\\ndno\\n\\nWhen you enter he SVC Mode, is the water level frequency below 26.0 kHz?\\n\\nvs)\\n\\nCheck theAIR CHAMBER, the tube (clogged), and press switch\\n\\n|\\n\\n|\\n\\nNo\\n\\nIs the coil of the drain pump too high or low? (resistance of the coil is 10-200)\\n\\nNe £\\n\\nva\\n\\n°S/)\\n\\nReplace the DRAIN PUMP ASSEMBLY.\\n\\nIs the voltage between connectors out of range? _—Y@S (WH6 Pin 1) . -After remove Terminal Position Assurance of connector check as follows\\n\\n_—Y@S\\n\\nReplace the MAIN PCB ASSEMBLY.\\n\\n|\\n\\n|\\n\\n|\\n\\n120V45% Pump running : Stopped Motor/Pump : 0~1V Method 1. Enter the SVC Mode. 2.Press Start/Pause button > 1 time : 2 times : 3 times : 4 times : 5 times : 6 times : 7 times : 8 times : 9 times Main Version DisplayVersion Inlet valve check mode ColdValve, BleachValve Rinse Valve, Hot Valve Jet Spray Valve Heater Check Alpha Check Pump Check\\n\\n|\\n\\n|\\n\\n[Note] Environmental check list nage hose must not stay in a lower position 2) The drainage hose must not be bent or clogged in any 1) The drai\\n\\nway due to the surrounding physical configuration 3) The drainage hose must not get frozen at all times. 4) The drainage pump must not have any improper ce or material inside that may cause a machine breakdown. substan\\n\\n33\\n\\nCopyright © 2016 - 2017 LG Electronics Inc. All rights reserved. Only training and service purposes.\\n\\nLOCKED MOTOR ERROR\\n\\nIs LE displayed?\\n\\nYes\\n\\nCheck the connectors below. Is the connector disconnecte or disassembled? (motor drive connector) — Part of main PCB assembly (YL8)\\n\\nReconnect the connector (connector / wire / motor )\\n\\nMotor Drive\\n\\n— Part of wire\\n\\n| — Part of motor Motor JNol | Is rotor magnet cracked? Replace the | ROTOR | Nek Is the resistance values in the range of 5 to152? No y Replace the (U-V, V-W, W-V STATOR :U=1, V=2, W=3) -After pull out the YL3 connector, check the terminal of the connector in wire. | Yes Check the IPM in the Yas\\\\ Replace the controller. Is IPM short? MAIN PCB ASSEMBLY\\n\\n34\\n\\nCopyright © 2016 - 2017 LG Electronics Inc. All rights reserved. Only training and service purposes.'"
            ],
            "application/vnd.google.colaboratory.intrinsic+json": {
              "type": "string"
            }
          },
          "metadata": {},
          "execution_count": 13
        }
      ]
    },
    {
      "cell_type": "code",
      "source": [
        "len(tables)"
      ],
      "metadata": {
        "colab": {
          "base_uri": "https://localhost:8080/"
        },
        "id": "ydaGNuhqU727",
        "outputId": "8dc422aa-1ca7-4636-c390-8f1a596f4478"
      },
      "execution_count": 14,
      "outputs": [
        {
          "output_type": "execute_result",
          "data": {
            "text/plain": [
              "11"
            ]
          },
          "metadata": {},
          "execution_count": 14
        }
      ]
    },
    {
      "cell_type": "code",
      "source": [
        "import os\n",
        "import getpass\n",
        "os.environ[\"OPENAI_API_KEY\"] = getpass.getpass()"
      ],
      "metadata": {
        "colab": {
          "base_uri": "https://localhost:8080/"
        },
        "id": "Lxskfjo1Wobz",
        "outputId": "bc253ddd-c259-4a3c-dea3-1394802b7a69"
      },
      "execution_count": 15,
      "outputs": [
        {
          "name": "stdout",
          "output_type": "stream",
          "text": [
            "··········\n"
          ]
        }
      ]
    },
    {
      "cell_type": "code",
      "source": [
        "!pip install langchain_openai"
      ],
      "metadata": {
        "colab": {
          "base_uri": "https://localhost:8080/"
        },
        "id": "Bm3BIuPPXI22",
        "outputId": "a2b897b0-fbd9-49e8-94a6-c473a846b46a"
      },
      "execution_count": 16,
      "outputs": [
        {
          "output_type": "stream",
          "name": "stdout",
          "text": [
            "Collecting langchain_openai\n",
            "  Downloading langchain_openai-0.1.16-py3-none-any.whl (46 kB)\n",
            "\u001b[?25l     \u001b[90m━━━━━━━━━━━━━━━━━━━━━━━━━━━━━━━━━━━━━━━━\u001b[0m \u001b[32m0.0/46.1 kB\u001b[0m \u001b[31m?\u001b[0m eta \u001b[36m-:--:--\u001b[0m\r\u001b[2K     \u001b[90m━━━━━━━━━━━━━━━━━━━━━━━━━━━━━━━━━━━━━━━━\u001b[0m \u001b[32m46.1/46.1 kB\u001b[0m \u001b[31m2.3 MB/s\u001b[0m eta \u001b[36m0:00:00\u001b[0m\n",
            "\u001b[?25hRequirement already satisfied: langchain-core<0.3.0,>=0.2.17 in /usr/local/lib/python3.10/dist-packages (from langchain_openai) (0.2.19)\n",
            "Collecting openai<2.0.0,>=1.32.0 (from langchain_openai)\n",
            "  Downloading openai-1.35.13-py3-none-any.whl (328 kB)\n",
            "\u001b[2K     \u001b[90m━━━━━━━━━━━━━━━━━━━━━━━━━━━━━━━━━━━━━━━━\u001b[0m \u001b[32m328.5/328.5 kB\u001b[0m \u001b[31m15.9 MB/s\u001b[0m eta \u001b[36m0:00:00\u001b[0m\n",
            "\u001b[?25hCollecting tiktoken<1,>=0.7 (from langchain_openai)\n",
            "  Downloading tiktoken-0.7.0-cp310-cp310-manylinux_2_17_x86_64.manylinux2014_x86_64.whl (1.1 MB)\n",
            "\u001b[2K     \u001b[90m━━━━━━━━━━━━━━━━━━━━━━━━━━━━━━━━━━━━━━━━\u001b[0m \u001b[32m1.1/1.1 MB\u001b[0m \u001b[31m36.5 MB/s\u001b[0m eta \u001b[36m0:00:00\u001b[0m\n",
            "\u001b[?25hRequirement already satisfied: PyYAML>=5.3 in /usr/local/lib/python3.10/dist-packages (from langchain-core<0.3.0,>=0.2.17->langchain_openai) (6.0.1)\n",
            "Requirement already satisfied: jsonpatch<2.0,>=1.33 in /usr/local/lib/python3.10/dist-packages (from langchain-core<0.3.0,>=0.2.17->langchain_openai) (1.33)\n",
            "Requirement already satisfied: langsmith<0.2.0,>=0.1.75 in /usr/local/lib/python3.10/dist-packages (from langchain-core<0.3.0,>=0.2.17->langchain_openai) (0.1.85)\n",
            "Requirement already satisfied: packaging<25,>=23.2 in /usr/local/lib/python3.10/dist-packages (from langchain-core<0.3.0,>=0.2.17->langchain_openai) (24.1)\n",
            "Requirement already satisfied: pydantic<3,>=1 in /usr/local/lib/python3.10/dist-packages (from langchain-core<0.3.0,>=0.2.17->langchain_openai) (2.8.2)\n",
            "Requirement already satisfied: tenacity!=8.4.0,<9.0.0,>=8.1.0 in /usr/local/lib/python3.10/dist-packages (from langchain-core<0.3.0,>=0.2.17->langchain_openai) (8.5.0)\n",
            "Requirement already satisfied: anyio<5,>=3.5.0 in /usr/local/lib/python3.10/dist-packages (from openai<2.0.0,>=1.32.0->langchain_openai) (3.7.1)\n",
            "Requirement already satisfied: distro<2,>=1.7.0 in /usr/lib/python3/dist-packages (from openai<2.0.0,>=1.32.0->langchain_openai) (1.7.0)\n",
            "Requirement already satisfied: httpx<1,>=0.23.0 in /usr/local/lib/python3.10/dist-packages (from openai<2.0.0,>=1.32.0->langchain_openai) (0.27.0)\n",
            "Requirement already satisfied: sniffio in /usr/local/lib/python3.10/dist-packages (from openai<2.0.0,>=1.32.0->langchain_openai) (1.3.1)\n",
            "Requirement already satisfied: tqdm>4 in /usr/local/lib/python3.10/dist-packages (from openai<2.0.0,>=1.32.0->langchain_openai) (4.66.4)\n",
            "Requirement already satisfied: typing-extensions<5,>=4.7 in /usr/local/lib/python3.10/dist-packages (from openai<2.0.0,>=1.32.0->langchain_openai) (4.12.2)\n",
            "Requirement already satisfied: regex>=2022.1.18 in /usr/local/lib/python3.10/dist-packages (from tiktoken<1,>=0.7->langchain_openai) (2024.5.15)\n",
            "Requirement already satisfied: requests>=2.26.0 in /usr/local/lib/python3.10/dist-packages (from tiktoken<1,>=0.7->langchain_openai) (2.31.0)\n",
            "Requirement already satisfied: idna>=2.8 in /usr/local/lib/python3.10/dist-packages (from anyio<5,>=3.5.0->openai<2.0.0,>=1.32.0->langchain_openai) (3.7)\n",
            "Requirement already satisfied: exceptiongroup in /usr/local/lib/python3.10/dist-packages (from anyio<5,>=3.5.0->openai<2.0.0,>=1.32.0->langchain_openai) (1.2.1)\n",
            "Requirement already satisfied: certifi in /usr/local/lib/python3.10/dist-packages (from httpx<1,>=0.23.0->openai<2.0.0,>=1.32.0->langchain_openai) (2024.7.4)\n",
            "Requirement already satisfied: httpcore==1.* in /usr/local/lib/python3.10/dist-packages (from httpx<1,>=0.23.0->openai<2.0.0,>=1.32.0->langchain_openai) (1.0.5)\n",
            "Requirement already satisfied: h11<0.15,>=0.13 in /usr/local/lib/python3.10/dist-packages (from httpcore==1.*->httpx<1,>=0.23.0->openai<2.0.0,>=1.32.0->langchain_openai) (0.14.0)\n",
            "Requirement already satisfied: jsonpointer>=1.9 in /usr/local/lib/python3.10/dist-packages (from jsonpatch<2.0,>=1.33->langchain-core<0.3.0,>=0.2.17->langchain_openai) (3.0.0)\n",
            "Requirement already satisfied: orjson<4.0.0,>=3.9.14 in /usr/local/lib/python3.10/dist-packages (from langsmith<0.2.0,>=0.1.75->langchain-core<0.3.0,>=0.2.17->langchain_openai) (3.10.6)\n",
            "Requirement already satisfied: annotated-types>=0.4.0 in /usr/local/lib/python3.10/dist-packages (from pydantic<3,>=1->langchain-core<0.3.0,>=0.2.17->langchain_openai) (0.7.0)\n",
            "Requirement already satisfied: pydantic-core==2.20.1 in /usr/local/lib/python3.10/dist-packages (from pydantic<3,>=1->langchain-core<0.3.0,>=0.2.17->langchain_openai) (2.20.1)\n",
            "Requirement already satisfied: charset-normalizer<4,>=2 in /usr/local/lib/python3.10/dist-packages (from requests>=2.26.0->tiktoken<1,>=0.7->langchain_openai) (3.3.2)\n",
            "Requirement already satisfied: urllib3<3,>=1.21.1 in /usr/local/lib/python3.10/dist-packages (from requests>=2.26.0->tiktoken<1,>=0.7->langchain_openai) (2.0.7)\n",
            "Installing collected packages: tiktoken, openai, langchain_openai\n",
            "Successfully installed langchain_openai-0.1.16 openai-1.35.13 tiktoken-0.7.0\n"
          ]
        }
      ]
    },
    {
      "cell_type": "code",
      "source": [
        "import os\n",
        "import getpass\n",
        "os.environ[\"LANGCHAIN_TRACING_V2\"] = \"true\"\n",
        "os.environ[\"LANGCHAIN_API_KEY\"] = getpass.getpass()\n",
        "os.environ[\"LANGCHAIN_PROJECT\"] = \"TEST RAG APP\""
      ],
      "metadata": {
        "colab": {
          "base_uri": "https://localhost:8080/"
        },
        "id": "8YPgugiyhBLz",
        "outputId": "3547e6f5-1d10-4711-fa2c-512a6fc1dfec"
      },
      "execution_count": 17,
      "outputs": [
        {
          "name": "stdout",
          "output_type": "stream",
          "text": [
            "··········\n"
          ]
        }
      ]
    },
    {
      "cell_type": "code",
      "source": [
        "import google.generativeai as genai\n",
        "import os\n",
        "import getpass\n",
        "\n",
        "# define Gemini API Key variables\n",
        "os.environ[\"GOOGLE_API_KEY\"] = getpass.getpass()\n",
        "genai.configure(api_key= os.environ[\"GOOGLE_API_KEY\"])"
      ],
      "metadata": {
        "colab": {
          "base_uri": "https://localhost:8080/"
        },
        "id": "kFc6KpzqSI7y",
        "outputId": "4c2ffbe3-d752-43c8-8b96-69ac72440a82"
      },
      "execution_count": 18,
      "outputs": [
        {
          "name": "stdout",
          "output_type": "stream",
          "text": [
            "··········\n"
          ]
        }
      ]
    },
    {
      "cell_type": "markdown",
      "source": [
        "Text and Table Summaries"
      ],
      "metadata": {
        "id": "i0ajMU9rVqP0"
      }
    },
    {
      "cell_type": "code",
      "source": [
        "from langchain.chat_models import ChatOpenAI\n",
        "from langchain_openai import OpenAI\n",
        "from langchain.prompts import PromptTemplate\n",
        "from langchain.schema.output_parser import StrOutputParser\n",
        "from langchain_core.messages import AIMessage\n",
        "from langchain_core.runnables import RunnableLambda\n",
        "\n",
        "# Generate summaries of text elements\n",
        "\n",
        "def generate_text_summaries(texts, tables, summarize_texts=False):\n",
        "    \"\"\"\n",
        "    Summarize text elements\n",
        "    texts: List of str\n",
        "    tables: List of str\n",
        "    summarize_texts: Bool to summarize texts\n",
        "    \"\"\"\n",
        "\n",
        "    # prompt\n",
        "    prompt_text = \"\"\"You are an assistant tasked with summarizing tables and text for retrieval. \\\n",
        "    These summaries will be embedded and used to retrieve the raw text or table elemnts. \\\n",
        "    Give a consize summary of the table or text that is well optimized for retrieval.\n",
        "    The summary must conserve the meaning of the raw element\n",
        "     Table\\\n",
        "    or text: {element} \"\"\"\n",
        "\n",
        "    prompt = PromptTemplate.from_template(prompt_text)\n",
        "    empty_response = RunnableLambda(\n",
        "        lambda x: AIMessage(content=\"Error processing document\")\n",
        "    )\n",
        "\n",
        "    # Text summary chain\n",
        "    model = OpenAI(\n",
        "        temperature=0, model_name=\"gpt-3.5-turbo\", max_output_tokens=1024\n",
        "    ).with_fallbacks([empty_response])\n",
        "    summarize_chain = {\"element\": lambda x: x} | prompt | model | StrOutputParser()\n",
        "\n",
        "    # initialize empty summaries\n",
        "    text_summaries = []\n",
        "    table_summaries = []\n",
        "    # Apply to text if texts are provided and summarization is requested\n",
        "    if texts and summarize_texts:\n",
        "        text_summaries = summarize_chain.batch(texts, {\"max_concurrency\": 1})\n",
        "    elif texts:\n",
        "        text_summaries = texts\n",
        "\n",
        "    # Apply to tables if tables are provided\n",
        "    if tables:\n",
        "        table_summaries = summarize_chain.batch(tables, {\"max_concurrency\": 1})\n",
        "\n",
        "    return text_summaries, table_summaries\n",
        "\n",
        "# Get text, table summaries\n",
        "text_summaries, table_summaries = generate_text_summaries(\n",
        "    texts[9:], tables, summarize_texts=True\n",
        ")\n",
        "\n"
      ],
      "metadata": {
        "colab": {
          "base_uri": "https://localhost:8080/"
        },
        "id": "ZWsjPtE8VAHJ",
        "outputId": "ffb1a441-ab6e-45e7-f91e-2248231d0513"
      },
      "execution_count": 19,
      "outputs": [
        {
          "output_type": "stream",
          "name": "stderr",
          "text": [
            "/usr/local/lib/python3.10/dist-packages/langchain_core/utils/utils.py:161: UserWarning: WARNING! max_output_tokens is not default parameter.\n",
            "                max_output_tokens was transferred to model_kwargs.\n",
            "                Please confirm that max_output_tokens is what you intended.\n",
            "  warnings.warn(\n"
          ]
        }
      ]
    },
    {
      "cell_type": "markdown",
      "source": [
        "Image Summaries"
      ],
      "metadata": {
        "id": "pS5O7Jf5Y7-N"
      }
    },
    {
      "cell_type": "code",
      "source": [
        "import base64\n",
        "import os\n",
        "from langchain_core.messages import HumanMessage\n",
        "from langchain_google_genai import ChatGoogleGenerativeAI\n",
        "\n",
        "def encode_image(image_path):\n",
        "    \"\"\"Getting the base64 string\"\"\"\n",
        "    with open(image_path, \"rb\") as image_file:\n",
        "        return base64.b64encode(image_file.read()).decode(\"utf-8\")\n",
        "\n",
        "def image_summarize(img_base64, prompt):\n",
        "    \"\"\"Make image summary\"\"\"\n",
        "    model = ChatGoogleGenerativeAI(model=\"gemini-pro-vision\")\n",
        "\n",
        "    msg = model(\n",
        "        [\n",
        "            HumanMessage(\n",
        "                content=[\n",
        "                    {\"type\": \"text\", \"text\": prompt},\n",
        "                    {\n",
        "                        \"type\": \"image_url\",\n",
        "                        \"image_url\": {\"url\": f\"data:image/jpeg;base64,{img_base64}\"},\n",
        "                    },\n",
        "                ]\n",
        "            )\n",
        "        ]\n",
        "    )\n",
        "    return msg.content\n",
        "\n",
        "def generate_img_summaries(path):\n",
        "    \"\"\"\n",
        "    Generate summaries and base64 encoded strings for images\n",
        "    path: Path to list of .jpg files extracted by Unstructured\n",
        "    \"\"\"\n",
        "\n",
        "    # Store base64 encoded images\n",
        "    img_base64_list = []\n",
        "\n",
        "    # Store image summaries\n",
        "    image_summaries = []\n",
        "\n",
        "    # Prompt\n",
        "    prompt = \"\"\"You are an assistant tasked with summarizing images for retrieval. \\\n",
        "    These summaries will be embedded and used to retrieve the raw image. \\\n",
        "    Give a concise summary of the image that is well optimized for retrieval.\"\"\"\n",
        "\n",
        "    # Apply to images\n",
        "    for img_file in sorted(os.listdir(path)):\n",
        "        if img_file.endswith(\".jpg\"):\n",
        "            img_path = os.path.join(path, img_file)\n",
        "            base64_image = encode_image(img_path)\n",
        "            img_base64_list.append(base64_image)\n",
        "            image_summaries.append(image_summarize(base64_image, prompt))\n",
        "\n",
        "    return img_base64_list, image_summaries\n",
        "\n",
        "fpath = \"./images\"\n",
        "img_base64_list, image_summaries = generate_img_summaries(fpath)"
      ],
      "metadata": {
        "colab": {
          "base_uri": "https://localhost:8080/"
        },
        "id": "-ZrCVTN8Rf6r",
        "outputId": "4e7cebce-97be-43af-d879-69c4aff29b0c"
      },
      "execution_count": 21,
      "outputs": [
        {
          "output_type": "stream",
          "name": "stderr",
          "text": [
            "/usr/local/lib/python3.10/dist-packages/langchain_core/_api/deprecation.py:139: LangChainDeprecationWarning: The method `BaseChatModel.__call__` was deprecated in langchain-core 0.1.7 and will be removed in 0.3.0. Use invoke instead.\n",
            "  warn_deprecated(\n",
            "WARNING:langchain_google_genai.chat_models:Retrying langchain_google_genai.chat_models._chat_with_retry.<locals>._chat_with_retry in 2.0 seconds as it raised ResourceExhausted: 429 Resource has been exhausted (e.g. check quota)..\n",
            "WARNING:langchain_google_genai.chat_models:Retrying langchain_google_genai.chat_models._chat_with_retry.<locals>._chat_with_retry in 4.0 seconds as it raised ResourceExhausted: 429 Resource has been exhausted (e.g. check quota)..\n",
            "WARNING:langchain_google_genai.chat_models:Retrying langchain_google_genai.chat_models._chat_with_retry.<locals>._chat_with_retry in 2.0 seconds as it raised ResourceExhausted: 429 Resource has been exhausted (e.g. check quota)..\n",
            "WARNING:langchain_google_genai.chat_models:Retrying langchain_google_genai.chat_models._chat_with_retry.<locals>._chat_with_retry in 4.0 seconds as it raised ResourceExhausted: 429 Resource has been exhausted (e.g. check quota)..\n",
            "WARNING:langchain_google_genai.chat_models:Retrying langchain_google_genai.chat_models._chat_with_retry.<locals>._chat_with_retry in 2.0 seconds as it raised ResourceExhausted: 429 Resource has been exhausted (e.g. check quota)..\n",
            "WARNING:langchain_google_genai.chat_models:Retrying langchain_google_genai.chat_models._chat_with_retry.<locals>._chat_with_retry in 2.0 seconds as it raised ResourceExhausted: 429 Resource has been exhausted (e.g. check quota)..\n",
            "WARNING:langchain_google_genai.chat_models:Retrying langchain_google_genai.chat_models._chat_with_retry.<locals>._chat_with_retry in 4.0 seconds as it raised ResourceExhausted: 429 Resource has been exhausted (e.g. check quota)..\n",
            "WARNING:langchain_google_genai.chat_models:Retrying langchain_google_genai.chat_models._chat_with_retry.<locals>._chat_with_retry in 2.0 seconds as it raised ResourceExhausted: 429 Resource has been exhausted (e.g. check quota)..\n",
            "WARNING:langchain_google_genai.chat_models:Retrying langchain_google_genai.chat_models._chat_with_retry.<locals>._chat_with_retry in 4.0 seconds as it raised ResourceExhausted: 429 Resource has been exhausted (e.g. check quota)..\n",
            "WARNING:langchain_google_genai.chat_models:Retrying langchain_google_genai.chat_models._chat_with_retry.<locals>._chat_with_retry in 2.0 seconds as it raised ResourceExhausted: 429 Resource has been exhausted (e.g. check quota)..\n",
            "WARNING:langchain_google_genai.chat_models:Retrying langchain_google_genai.chat_models._chat_with_retry.<locals>._chat_with_retry in 4.0 seconds as it raised ResourceExhausted: 429 Resource has been exhausted (e.g. check quota)..\n",
            "WARNING:langchain_google_genai.chat_models:Retrying langchain_google_genai.chat_models._chat_with_retry.<locals>._chat_with_retry in 8.0 seconds as it raised ResourceExhausted: 429 Resource has been exhausted (e.g. check quota)..\n"
          ]
        }
      ]
    },
    {
      "cell_type": "code",
      "source": [
        "image_summaries[0]\n"
      ],
      "metadata": {
        "colab": {
          "base_uri": "https://localhost:8080/",
          "height": 105
        },
        "id": "8xUXbnqMe7IA",
        "outputId": "d38426f1-53d2-4707-8b3f-936babe7c3b6"
      },
      "execution_count": 29,
      "outputs": [
        {
          "output_type": "execute_result",
          "data": {
            "text/plain": [
              "' The image is a logo for LG, a South Korean multinational conglomerate corporation.     The logo consists of an uppercase \"L\" and \"G\" in grey, with a red circle containing a stylized image of a human face in profile in the background.     The logotype \"LG\" is set in a custom sans-serif typeface.     Below the logotype is the company\\'s slogan, \"Life\\'s Good\".'"
            ],
            "application/vnd.google.colaboratory.intrinsic+json": {
              "type": "string"
            }
          },
          "metadata": {},
          "execution_count": 29
        }
      ]
    },
    {
      "cell_type": "code",
      "source": [
        "import uuid\n",
        "\n",
        "from langchain.embeddings import OpenAIEmbeddings\n",
        "from langchain.retrievers.multi_vector import MultiVectorRetriever\n",
        "from langchain.schema.document import Document\n",
        "from langchain.storage import InMemoryStore\n",
        "from langchain.vectorstores import Chroma\n",
        "\n",
        "\n",
        "def create_multi_vector_retriever(\n",
        "    vectorstore, text_summaries, texts, table_summaries, tables, image_summaries, images\n",
        "):\n",
        "    \"\"\"\n",
        "    Create retriever that indexes summaries, but returns raw texts or images\n",
        "    \"\"\"\n",
        "\n",
        "    # Initialize the storage layer\n",
        "    store = InMemoryStore()\n",
        "    id_key = \"doc_id\"\n",
        "\n",
        "    # Create the multi-vector retriever\n",
        "    retriever = MultiVectorRetriever(\n",
        "        vectorstore=vectorstore,\n",
        "        docstore=store,\n",
        "        id_key=id_key,\n",
        "    )\n",
        "    # Helper function to add documents to the vectorstore and docstore\n",
        "    def add_documents(retriever, doc_summaries, doc_contents):\n",
        "        doc_ids = [str(uuid.uuid4()) for _ in doc_contents]\n",
        "        summary_docs = [\n",
        "            Document(page_content=s, metadata={id_key: doc_ids[i]})\n",
        "            for i, s in enumerate(doc_summaries)\n",
        "        ]\n",
        "        retriever.vectorstore.add_documents(summary_docs)\n",
        "        retriever.docstore.mset(list(zip(doc_ids, doc_contents)))\n",
        "\n",
        "    # Add texts, tables, and images\n",
        "    # Check that text_summaries is not empty before adding\n",
        "    if text_summaries:\n",
        "        add_documents(retriever, text_summaries, texts)\n",
        "    # Check that table_summaries is not empty before adding\n",
        "    if table_summaries:\n",
        "        add_documents(retriever, table_summaries, tables)\n",
        "\n",
        "    # Check that image_summaries is not empty before adding\n",
        "    if image_summaries:\n",
        "        add_documents(retriever, image_summaries, images)\n",
        "\n",
        "\n",
        "    return retriever\n",
        "\n",
        "# The vectorstore to use to index the summaries\n",
        "vectorstore = Chroma(\n",
        "    collection_name=\"mm_rag_pipeline\",\n",
        "    embedding_function=OpenAIEmbeddings(),\n",
        ")\n",
        "\n",
        "# Create retriever\n",
        "retriever_multi_vector_img = create_multi_vector_retriever(\n",
        "    vectorstore,\n",
        "    text_summaries,\n",
        "    texts,\n",
        "    table_summaries,\n",
        "    tables,\n",
        "    image_summaries,\n",
        "    img_base64_list,\n",
        ")"
      ],
      "metadata": {
        "colab": {
          "base_uri": "https://localhost:8080/"
        },
        "id": "kdT5Lk97iWYs",
        "outputId": "f32c5e5e-5680-4b7e-e7e1-3c00c5945774"
      },
      "execution_count": 30,
      "outputs": [
        {
          "output_type": "stream",
          "name": "stderr",
          "text": [
            "/usr/local/lib/python3.10/dist-packages/langchain_core/_api/deprecation.py:139: LangChainDeprecationWarning: The class `OpenAIEmbeddings` was deprecated in LangChain 0.0.9 and will be removed in 0.3.0. An updated version of the class exists in the langchain-openai package and should be used instead. To use it run `pip install -U langchain-openai` and import as `from langchain_openai import OpenAIEmbeddings`.\n",
            "  warn_deprecated(\n"
          ]
        }
      ]
    },
    {
      "cell_type": "markdown",
      "source": [
        "RAG Pipeline"
      ],
      "metadata": {
        "id": "T-VUy521hMBn"
      }
    },
    {
      "cell_type": "code",
      "source": [
        "import io\n",
        "import re\n",
        "\n",
        "from IPython.display import display, HTML\n",
        "from langchain.schema.runnable import RunnableLambda, RunnablePassthrough\n",
        "from PIL import Image\n",
        "\n",
        "def looks_like_base64(sb):\n",
        "    \"\"\"Check if the string looks like base64\"\"\"\n",
        "    return re.match(\"^[A-Za-z0-9+/]+[=]{0,2}$\", sb) is not None\n",
        "\n",
        "def is_image_data(b64data):\n",
        "    \"\"\"\n",
        "    Check if the base64 data is an image by looking at the start of the data\n",
        "    \"\"\"\n",
        "    image_signatures = {\n",
        "        b\"\\xFF\\xD8\\xFF\": \"jpg\",\n",
        "        b\"\\x89\\x50\\x4E\\x47\\x0D\\x0A\\x1A\\x0A\": \"png\",\n",
        "        b\"\\x47\\x49\\x46\\x38\": \"gif\",\n",
        "        b\"\\x52\\x49\\x46\\x46\": \"webp\",\n",
        "    }\n",
        "    try:\n",
        "        header = base64.b64decode(b64data)[:8]  # Decode and get the first 8 bytes\n",
        "        for sig, format in image_signatures.items():\n",
        "            if header.startswith(sig):\n",
        "                return True\n",
        "        return False\n",
        "    except Exception:\n",
        "        return False\n",
        "\n",
        "def resize_base64_image(base64_string, size=(128, 128)):\n",
        "    \"\"\"\n",
        "    Resize an image encoded as a Base64 string\n",
        "    \"\"\"\n",
        "    # Decode the Base64 string\n",
        "    img_data = base64.b64decode(base64_string)\n",
        "    img = Image.open(io.BytesIO(img_data))\n",
        "\n",
        "    # Resize the image\n",
        "    resized_img = img.resize(size, Image.LANCZOS)\n",
        "\n",
        "    # Save the resized image to a bytes buffer\n",
        "    buffered = io.BytesIO()\n",
        "    resized_img.save(buffered, format=img.format)\n",
        "\n",
        "    # Encode the resized image to Base64\n",
        "    return base64.b64encode(buffered.getvalue()).decode(\"utf-8\")\n",
        "\n",
        "def split_image_text_types(docs):\n",
        "    \"\"\"\n",
        "    Split base64-encoded images and texts\n",
        "    \"\"\"\n",
        "    b64_images = []\n",
        "    texts = []\n",
        "    for doc in docs:\n",
        "        # Check if the document is of type Document and extract page_content if so\n",
        "        if isinstance(doc, Document):\n",
        "            doc = doc.page_content\n",
        "        if looks_like_base64(doc) and is_image_data(doc):\n",
        "            doc = resize_base64_image(doc, size=(1300, 600))\n",
        "            b64_images.append(doc)\n",
        "        else:\n",
        "            texts.append(doc)\n",
        "    if len(b64_images) > 0:\n",
        "        return {\"images\": b64_images[:1], \"texts\": []}\n",
        "    return {\"images\": b64_images, \"texts\": texts}\n",
        "\n",
        "def img_prompt_func(data_dict):\n",
        "    \"\"\"\n",
        "    Join the context into a single string\n",
        "    \"\"\"\n",
        "    formatted_texts = \"\\n\".join(data_dict[\"context\"][\"texts\"])\n",
        "    messages = []\n",
        "\n",
        "    # Adding the text for analysis\n",
        "    text_message = {\n",
        "        \"type\": \"text\",\n",
        "        \"text\": (\n",
        "            \"You are an AI scientist tasking with providing factual answers.\\n\"\n",
        "            \"You will be given a mixed of text, tables, and image(s) .\\n\"\n",
        "            \"Use this information to provide answers related to the user question. \\n\"\n",
        "            f\"User-provided question: {data_dict['question']}\\n\\n\"\n",
        "            \"Text and / or tables:\\n\"\n",
        "            f\"{formatted_texts}\"\n",
        "        ),\n",
        "    }\n",
        "    messages.append(text_message)\n",
        "    # Adding image(s) to the messages if present\n",
        "    if data_dict[\"context\"][\"images\"]:\n",
        "        for image in data_dict[\"context\"][\"images\"]:\n",
        "            image_message = {\n",
        "                \"type\": \"image_url\",\n",
        "                \"image_url\": {\"url\": f\"data:image/jpeg;base64,{image}\"},\n",
        "            }\n",
        "            messages.append(image_message)\n",
        "    return [HumanMessage(content=messages)]\n",
        "\n",
        "def multi_modal_rag_chain(retriever):\n",
        "    \"\"\"\n",
        "    Multi-modal RAG chain\n",
        "    \"\"\"\n",
        "\n",
        "    # Multi-modal LLM\n",
        "    model = ChatGoogleGenerativeAI(\n",
        "        temperature=0, model=\"gemini-pro-vision\"\n",
        "    )\n",
        "\n",
        "    # RAG pipeline\n",
        "    chain = (\n",
        "        {\n",
        "            \"context\": retriever | RunnableLambda(split_image_text_types),\n",
        "            \"question\": RunnablePassthrough(),\n",
        "        }\n",
        "        | RunnableLambda(img_prompt_func)\n",
        "        | model\n",
        "        | StrOutputParser()\n",
        "    )\n",
        "\n",
        "    return chain\n",
        "\n",
        "# Create RAG chain\n",
        "chain_multimodal_rag = multi_modal_rag_chain(retriever_multi_vector_img)"
      ],
      "metadata": {
        "id": "bK_uk6xqpMuH"
      },
      "execution_count": 31,
      "outputs": []
    },
    {
      "cell_type": "code",
      "source": [
        "query = \"\"\"Cycle GUIDE FOR WASHING PROGRAMS\"\"\"\n",
        "\n",
        "docs = retriever_multi_vector_img.invoke(query, limit = 1)\n",
        "docs[0]"
      ],
      "metadata": {
        "colab": {
          "base_uri": "https://localhost:8080/",
          "height": 244
        },
        "id": "Muyvv-BWi6j5",
        "outputId": "b46c9c65-83b1-4286-bac7-5142d72e0aa2"
      },
      "execution_count": 36,
      "outputs": [
        {
          "output_type": "execute_result",
          "data": {
            "text/plain": [
              "'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'"
            ],
            "application/vnd.google.colaboratory.intrinsic+json": {
              "type": "string"
            }
          },
          "metadata": {},
          "execution_count": 36
        }
      ]
    },
    {
      "cell_type": "code",
      "source": [
        "chain_multimodal_rag.invoke(query)\n"
      ],
      "metadata": {
        "colab": {
          "base_uri": "https://localhost:8080/",
          "height": 53
        },
        "id": "WogWftWYkP6y",
        "outputId": "c9baaa06-8730-4e08-dcbe-20608246a6a4"
      },
      "execution_count": 37,
      "outputs": [
        {
          "output_type": "execute_result",
          "data": {
            "text/plain": [
              "' To adjust the washing cycle, press the Cycle Guide button repeatedly until the desired cycle is selected.'"
            ],
            "application/vnd.google.colaboratory.intrinsic+json": {
              "type": "string"
            }
          },
          "metadata": {},
          "execution_count": 37
        }
      ]
    },
    {
      "cell_type": "code",
      "source": [],
      "metadata": {
        "id": "ImX2FSmlkyP7"
      },
      "execution_count": null,
      "outputs": []
    }
  ]
}